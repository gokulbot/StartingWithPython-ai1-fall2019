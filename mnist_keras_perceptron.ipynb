{
  "nbformat": 4,
  "nbformat_minor": 0,
  "metadata": {
    "colab": {
      "name": "mnist-keras-perceptron.ipynb",
      "provenance": [],
      "collapsed_sections": [],
      "include_colab_link": true
    },
    "kernelspec": {
      "name": "python3",
      "display_name": "Python 3"
    },
    "accelerator": "GPU"
  },
  "cells": [
    {
      "cell_type": "markdown",
      "metadata": {
        "id": "view-in-github",
        "colab_type": "text"
      },
      "source": [
        "<a href=\"https://colab.research.google.com/github/gokulbot/StartingWithPython-ai1-fall2019/blob/master/mnist_keras_perceptron.ipynb\" target=\"_parent\"><img src=\"https://colab.research.google.com/assets/colab-badge.svg\" alt=\"Open In Colab\"/></a>"
      ]
    },
    {
      "cell_type": "code",
      "metadata": {
        "id": "0rrbVKm5n6E3",
        "colab_type": "code",
        "outputId": "35aec5ec-e80e-48fb-9dbc-1d45f1a80ec7",
        "colab": {
          "base_uri": "https://localhost:8080/",
          "height": 916
        }
      },
      "source": [
        "# taken from lukas/ml-class\n",
        "import numpy as np\n",
        "from keras.datasets import mnist\n",
        "from keras.models import Sequential\n",
        "from keras.layers import Dense, Flatten, Dropout\n",
        "from keras.utils import np_utils\n",
        "from keras.callbacks import Callback\n",
        "import json\n",
        "\n",
        "!pip install wandb\n",
        "from wandb.keras import WandbCallback\n",
        "import wandb\n",
        "run = wandb.init()\n",
        "config = run.config\n",
        "\n",
        "\n",
        "\n",
        "\n",
        "\n",
        "\n",
        "config.optimizer = \"adam\"\n",
        "config.epochs = 3\n",
        "config.hidden_nodes = 30\n",
        "\n",
        "\n",
        "\n",
        "# Normalize, change learning rate, play with layer size, batchsize\n",
        "# load data\n",
        "(X_train, y_train), (X_test, y_test) = mnist.load_data()\n",
        "img_width = X_train.shape[1]\n",
        "img_height = X_train.shape[2]\n",
        "print(X_train.shape, y_train.shape)\n",
        "X_train = X_train.astype('float32')\n",
        "X_train /= 255.\n",
        "X_test = X_test.astype('float32')\n",
        "X_test /= 255.\n",
        "# one hot encode outputs\n",
        "y_train = np_utils.to_categorical(y_train)\n",
        "y_test = np_utils.to_categorical(y_test)\n",
        "labels = range(10)\n",
        "\n",
        "num_classes = y_train.shape[1]\n",
        "\n",
        "\n",
        "# create model\n",
        "model = Sequential()\n",
        "model.add(Flatten(input_shape=(img_width, img_height)))\n",
        "model.add(Dense(config.hidden_nodes, activation='relu'))\n",
        "model.add(Dense(config.hidden_nodes, activation='relu'))\n",
        "model.add(Dense(num_classes, activation='softmax'))\n",
        "model.compile(loss='categorical_crossentropy', optimizer=config.optimizer,\n",
        "              metrics=['accuracy'])\n",
        "model.summary()\n"
      ],
      "execution_count": 6,
      "outputs": [
        {
          "output_type": "stream",
          "text": [
            "Requirement already satisfied: wandb in /usr/local/lib/python3.6/dist-packages (0.8.12)\n",
            "Requirement already satisfied: docker-pycreds>=0.4.0 in /usr/local/lib/python3.6/dist-packages (from wandb) (0.4.0)\n",
            "Requirement already satisfied: six>=1.10.0 in /usr/local/lib/python3.6/dist-packages (from wandb) (1.12.0)\n",
            "Requirement already satisfied: python-dateutil>=2.6.1 in /usr/local/lib/python3.6/dist-packages (from wandb) (2.8.0)\n",
            "Requirement already satisfied: configparser>=3.8.1 in /usr/local/lib/python3.6/dist-packages (from wandb) (4.0.2)\n",
            "Requirement already satisfied: subprocess32>=3.5.3 in /usr/local/lib/python3.6/dist-packages (from wandb) (3.5.4)\n",
            "Requirement already satisfied: gql>=0.1.0 in /usr/local/lib/python3.6/dist-packages (from wandb) (0.1.0)\n",
            "Requirement already satisfied: Click>=7.0 in /usr/local/lib/python3.6/dist-packages (from wandb) (7.0)\n",
            "Requirement already satisfied: requests>=2.0.0 in /usr/local/lib/python3.6/dist-packages (from wandb) (2.21.0)\n",
            "Requirement already satisfied: GitPython>=1.0.0 in /usr/local/lib/python3.6/dist-packages (from wandb) (3.0.3)\n",
            "Requirement already satisfied: psutil>=5.0.0 in /usr/local/lib/python3.6/dist-packages (from wandb) (5.4.8)\n",
            "Requirement already satisfied: shortuuid>=0.5.0 in /usr/local/lib/python3.6/dist-packages (from wandb) (0.5.0)\n",
            "Requirement already satisfied: watchdog>=0.8.3 in /usr/local/lib/python3.6/dist-packages (from wandb) (0.9.0)\n",
            "Requirement already satisfied: nvidia-ml-py3>=7.352.0 in /usr/local/lib/python3.6/dist-packages (from wandb) (7.352.0)\n",
            "Requirement already satisfied: sentry-sdk>=0.4.0 in /usr/local/lib/python3.6/dist-packages (from wandb) (0.12.3)\n",
            "Requirement already satisfied: graphql-core>=0.5.0 in /usr/local/lib/python3.6/dist-packages (from gql>=0.1.0->wandb) (2.2.1)\n",
            "Requirement already satisfied: promise>=0.4.0 in /usr/local/lib/python3.6/dist-packages (from gql>=0.1.0->wandb) (2.2.1)\n",
            "Requirement already satisfied: idna<2.9,>=2.5 in /usr/local/lib/python3.6/dist-packages (from requests>=2.0.0->wandb) (2.8)\n",
            "Requirement already satisfied: chardet<3.1.0,>=3.0.2 in /usr/local/lib/python3.6/dist-packages (from requests>=2.0.0->wandb) (3.0.4)\n",
            "Requirement already satisfied: urllib3<1.25,>=1.21.1 in /usr/local/lib/python3.6/dist-packages (from requests>=2.0.0->wandb) (1.24.3)\n",
            "Requirement already satisfied: certifi>=2017.4.17 in /usr/local/lib/python3.6/dist-packages (from requests>=2.0.0->wandb) (2019.9.11)\n",
            "Requirement already satisfied: gitdb2>=2.0.0 in /usr/local/lib/python3.6/dist-packages (from GitPython>=1.0.0->wandb) (2.0.6)\n",
            "Requirement already satisfied: PyYAML>=3.10 in /usr/local/lib/python3.6/dist-packages (from watchdog>=0.8.3->wandb) (3.13)\n",
            "Requirement already satisfied: argh>=0.24.1 in /usr/local/lib/python3.6/dist-packages (from watchdog>=0.8.3->wandb) (0.26.2)\n",
            "Requirement already satisfied: pathtools>=0.1.1 in /usr/local/lib/python3.6/dist-packages (from watchdog>=0.8.3->wandb) (0.1.2)\n",
            "Requirement already satisfied: rx<3,>=1.6 in /usr/local/lib/python3.6/dist-packages (from graphql-core>=0.5.0->gql>=0.1.0->wandb) (1.6.1)\n",
            "Requirement already satisfied: smmap2>=2.0.0 in /usr/local/lib/python3.6/dist-packages (from gitdb2>=2.0.0->GitPython>=1.0.0->wandb) (2.0.5)\n"
          ],
          "name": "stdout"
        },
        {
          "output_type": "display_data",
          "data": {
            "text/html": [
              "\n",
              "            Notebook configured with <a href=\"https://wandb.com\" target=\"_blank\">W&B</a>. You can <a href=\"https://app.wandb.ai/gokuljalaja/uncategorized/runs/iy6xoe01\" target=\"_blank\">open</a> the run page, or call <code>%%wandb</code>\n",
              "            in a cell containing your training loop to display live results.  Learn more in our <a href=\"https://docs.wandb.com/docs/integrations/jupyter.html\" target=\"_blank\">docs</a>.\n",
              "        "
            ],
            "text/plain": [
              "<IPython.core.display.HTML object>"
            ]
          },
          "metadata": {
            "tags": []
          }
        },
        {
          "output_type": "stream",
          "text": [
            "(60000, 28, 28) (60000,)\n",
            "Model: \"sequential_2\"\n",
            "_________________________________________________________________\n",
            "Layer (type)                 Output Shape              Param #   \n",
            "=================================================================\n",
            "flatten_2 (Flatten)          (None, 784)               0         \n",
            "_________________________________________________________________\n",
            "dense_4 (Dense)              (None, 30)                23550     \n",
            "_________________________________________________________________\n",
            "dense_5 (Dense)              (None, 30)                930       \n",
            "_________________________________________________________________\n",
            "dense_6 (Dense)              (None, 10)                310       \n",
            "=================================================================\n",
            "Total params: 24,790\n",
            "Trainable params: 24,790\n",
            "Non-trainable params: 0\n",
            "_________________________________________________________________\n",
            "Train on 60000 samples, validate on 10000 samples\n",
            "Epoch 1/3\n",
            "60000/60000 [==============================] - 11s 176us/step - loss: 0.3584 - acc: 0.8937 - val_loss: 0.1922 - val_acc: 0.9422\n",
            "Epoch 2/3\n",
            "60000/60000 [==============================] - 10s 163us/step - loss: 0.1760 - acc: 0.9477 - val_loss: 0.1534 - val_acc: 0.9535\n",
            "Epoch 3/3\n",
            "60000/60000 [==============================] - 10s 162us/step - loss: 0.1368 - acc: 0.9601 - val_loss: 0.1304 - val_acc: 0.9609\n"
          ],
          "name": "stdout"
        }
      ]
    },
    {
      "cell_type": "code",
      "metadata": {
        "id": "NFUrQs1yMEy4",
        "colab_type": "code",
        "colab": {
          "base_uri": "https://localhost:8080/",
          "height": 651
        },
        "outputId": "144865b3-e00a-4041-b109-595b7c216aac"
      },
      "source": [
        "# Fit the model\n",
        "%%wandb\n",
        "history = model.fit(X_train, y_train, validation_data=(X_test, y_test),\n",
        "          epochs=config.epochs,callbacks=[WandbCallback(data_type = 'image',labels=labels)])"
      ],
      "execution_count": 7,
      "outputs": [
        {
          "output_type": "display_data",
          "data": {
            "text/html": [
              "<iframe src=\"https://app.wandb.ai/gokuljalaja/uncategorized/runs/iy6xoe01?jupyter=true&state=paused\" style=\"border:none;width:100%;height:420px\">\n",
              "        </iframe>"
            ],
            "text/plain": [
              "<wandb.jupyter.Run at 0x7f47b746ce80>"
            ]
          },
          "metadata": {
            "tags": []
          }
        },
        {
          "output_type": "stream",
          "text": [
            "Train on 60000 samples, validate on 10000 samples\n",
            "Epoch 1/3\n",
            "  736/60000 [..............................] - ETA: 47s - loss: 0.1249 - acc: 0.9633 "
          ],
          "name": "stdout"
        },
        {
          "output_type": "stream",
          "text": [
            "/usr/local/lib/python3.6/dist-packages/keras/callbacks.py:95: RuntimeWarning: Method (on_train_batch_end) is slow compared to the batch update (0.405623). Check your callbacks.\n",
            "  % (hook_name, delta_t_median), RuntimeWarning)\n",
            "/usr/local/lib/python3.6/dist-packages/keras/callbacks.py:95: RuntimeWarning: Method (on_train_batch_end) is slow compared to the batch update (0.203479). Check your callbacks.\n",
            "  % (hook_name, delta_t_median), RuntimeWarning)\n"
          ],
          "name": "stderr"
        },
        {
          "output_type": "stream",
          "text": [
            "60000/60000 [==============================] - 10s 171us/step - loss: 0.1162 - acc: 0.9657 - val_loss: 0.1334 - val_acc: 0.9600\n",
            "Epoch 2/3\n",
            "60000/60000 [==============================] - 10s 164us/step - loss: 0.1032 - acc: 0.9693 - val_loss: 0.1213 - val_acc: 0.9654\n",
            "Epoch 3/3\n",
            "60000/60000 [==============================] - 10s 163us/step - loss: 0.0931 - acc: 0.9720 - val_loss: 0.1116 - val_acc: 0.9679\n"
          ],
          "name": "stdout"
        }
      ]
    },
    {
      "cell_type": "code",
      "metadata": {
        "id": "T9eQx_t5zCU_",
        "colab_type": "code",
        "outputId": "72ad0da0-8329-48f3-bf08-04458f19bde6",
        "colab": {
          "base_uri": "https://localhost:8080/",
          "height": 34
        }
      },
      "source": [
        "history\n",
        "\n"
      ],
      "execution_count": 4,
      "outputs": [
        {
          "output_type": "execute_result",
          "data": {
            "text/plain": [
              "<keras.callbacks.History at 0x7f4765745a58>"
            ]
          },
          "metadata": {
            "tags": []
          },
          "execution_count": 4
        }
      ]
    },
    {
      "cell_type": "code",
      "metadata": {
        "id": "wVnoTdGYzjcs",
        "colab_type": "code",
        "outputId": "21664c28-c10f-4e08-db1b-caa84a8c1d6c",
        "colab": {
          "base_uri": "https://localhost:8080/",
          "height": 1000
        }
      },
      "source": [
        "\n",
        "history.history\n"
      ],
      "execution_count": 0,
      "outputs": [
        {
          "output_type": "execute_result",
          "data": {
            "text/plain": [
              "{'acc': [0.5096833333333334,\n",
              "  0.5555333333333333,\n",
              "  0.61805,\n",
              "  0.65465,\n",
              "  0.6599666666666667,\n",
              "  0.72325,\n",
              "  0.7333666666666666,\n",
              "  0.7979333333333334,\n",
              "  0.8307166666666667,\n",
              "  0.8317666666666667,\n",
              "  0.8351833333333334,\n",
              "  0.8387666666666667,\n",
              "  0.8376666666666667,\n",
              "  0.8385666666666667,\n",
              "  0.8386666666666667,\n",
              "  0.8366,\n",
              "  0.8415,\n",
              "  0.8405833333333333,\n",
              "  0.83495,\n",
              "  0.8382833333333334,\n",
              "  0.8377666666666667,\n",
              "  0.8412666666666667,\n",
              "  0.8446833333333333,\n",
              "  0.8427333333333333,\n",
              "  0.8460666666666666,\n",
              "  0.8444166666666667,\n",
              "  0.8422666666666667,\n",
              "  0.8461166666666666,\n",
              "  0.843,\n",
              "  0.8426166666666667],\n",
              " 'loss': [7.796374414952596,\n",
              "  7.123341987991333,\n",
              "  6.113704909833272,\n",
              "  5.536000281524658,\n",
              "  5.451049778683981,\n",
              "  4.427007613881429,\n",
              "  4.270296990394592,\n",
              "  3.21951870024999,\n",
              "  2.7040922325063033,\n",
              "  2.6880964358965556,\n",
              "  2.6331738532912605,\n",
              "  2.57783377345403,\n",
              "  2.5976121930122376,\n",
              "  2.5839172920872766,\n",
              "  2.5822953645388287,\n",
              "  2.614614863872528,\n",
              "  2.540729440519435,\n",
              "  2.5553294040997825,\n",
              "  2.647618137105306,\n",
              "  2.5960685115631517,\n",
              "  2.6059768414497375,\n",
              "  2.5481827925046283,\n",
              "  2.4958011012057475,\n",
              "  2.5260716446876526,\n",
              "  2.471867928918203,\n",
              "  2.4988704336563745,\n",
              "  2.53311786796406,\n",
              "  2.473392738075151,\n",
              "  2.523128192939471,\n",
              "  2.5289045022328693],\n",
              " 'val_acc': [0.5551,\n",
              "  0.5488,\n",
              "  0.6427,\n",
              "  0.6537,\n",
              "  0.677,\n",
              "  0.7318,\n",
              "  0.7343,\n",
              "  0.8245,\n",
              "  0.8385,\n",
              "  0.8422,\n",
              "  0.8409,\n",
              "  0.8309,\n",
              "  0.8355,\n",
              "  0.8379,\n",
              "  0.8416,\n",
              "  0.8445,\n",
              "  0.8308,\n",
              "  0.8388,\n",
              "  0.8382,\n",
              "  0.8362,\n",
              "  0.8337,\n",
              "  0.8286,\n",
              "  0.8407,\n",
              "  0.835,\n",
              "  0.8469,\n",
              "  0.8463,\n",
              "  0.8223,\n",
              "  0.8363,\n",
              "  0.8456,\n",
              "  0.8456],\n",
              " 'val_loss': [7.131828857421875,\n",
              "  7.231800674438476,\n",
              "  5.724548136138916,\n",
              "  5.570172573852539,\n",
              "  5.154515707397461,\n",
              "  4.3005478374481205,\n",
              "  4.251234442138672,\n",
              "  2.795301072883606,\n",
              "  2.577250712394714,\n",
              "  2.5228085313796997,\n",
              "  2.544639870452881,\n",
              "  2.7074351203918456,\n",
              "  2.640993992614746,\n",
              "  2.604715891265869,\n",
              "  2.540531377220154,\n",
              "  2.4950556941986086,\n",
              "  2.7132705577850342,\n",
              "  2.57868197517395,\n",
              "  2.5995764657974245,\n",
              "  2.628954097557068,\n",
              "  2.6716720857620238,\n",
              "  2.751060725975037,\n",
              "  2.561778575706482,\n",
              "  2.650298845291138,\n",
              "  2.459677803039551,\n",
              "  2.4702532207489014,\n",
              "  2.853649940109253,\n",
              "  2.63005922203064,\n",
              "  2.485885758781433,\n",
              "  2.4766130783081053]}"
            ]
          },
          "metadata": {
            "tags": []
          },
          "execution_count": 36
        }
      ]
    },
    {
      "cell_type": "code",
      "metadata": {
        "id": "XEDPk6-i6qh0",
        "colab_type": "code",
        "outputId": "8157ee50-0c24-4f04-ce9d-2d04b5b236a7",
        "colab": {
          "base_uri": "https://localhost:8080/",
          "height": 536
        }
      },
      "source": [
        "history.epoch"
      ],
      "execution_count": 0,
      "outputs": [
        {
          "output_type": "execute_result",
          "data": {
            "text/plain": [
              "[0,\n",
              " 1,\n",
              " 2,\n",
              " 3,\n",
              " 4,\n",
              " 5,\n",
              " 6,\n",
              " 7,\n",
              " 8,\n",
              " 9,\n",
              " 10,\n",
              " 11,\n",
              " 12,\n",
              " 13,\n",
              " 14,\n",
              " 15,\n",
              " 16,\n",
              " 17,\n",
              " 18,\n",
              " 19,\n",
              " 20,\n",
              " 21,\n",
              " 22,\n",
              " 23,\n",
              " 24,\n",
              " 25,\n",
              " 26,\n",
              " 27,\n",
              " 28,\n",
              " 29]"
            ]
          },
          "metadata": {
            "tags": []
          },
          "execution_count": 37
        }
      ]
    },
    {
      "cell_type": "code",
      "metadata": {
        "id": "aHEaAn9RCWy0",
        "colab_type": "code",
        "colab": {}
      },
      "source": [
        "import matplotlib.pyplot as plt"
      ],
      "execution_count": 0,
      "outputs": []
    },
    {
      "cell_type": "code",
      "metadata": {
        "id": "drZ_aBey6vmx",
        "colab_type": "code",
        "outputId": "e50fdcb3-7cd7-4697-ef53-0d624a28f787",
        "colab": {
          "base_uri": "https://localhost:8080/",
          "height": 1000
        }
      },
      "source": [
        "history.history"
      ],
      "execution_count": 0,
      "outputs": [
        {
          "output_type": "execute_result",
          "data": {
            "text/plain": [
              "{'acc': [0.5096833333333334,\n",
              "  0.5555333333333333,\n",
              "  0.61805,\n",
              "  0.65465,\n",
              "  0.6599666666666667,\n",
              "  0.72325,\n",
              "  0.7333666666666666,\n",
              "  0.7979333333333334,\n",
              "  0.8307166666666667,\n",
              "  0.8317666666666667,\n",
              "  0.8351833333333334,\n",
              "  0.8387666666666667,\n",
              "  0.8376666666666667,\n",
              "  0.8385666666666667,\n",
              "  0.8386666666666667,\n",
              "  0.8366,\n",
              "  0.8415,\n",
              "  0.8405833333333333,\n",
              "  0.83495,\n",
              "  0.8382833333333334,\n",
              "  0.8377666666666667,\n",
              "  0.8412666666666667,\n",
              "  0.8446833333333333,\n",
              "  0.8427333333333333,\n",
              "  0.8460666666666666,\n",
              "  0.8444166666666667,\n",
              "  0.8422666666666667,\n",
              "  0.8461166666666666,\n",
              "  0.843,\n",
              "  0.8426166666666667],\n",
              " 'loss': [7.796374414952596,\n",
              "  7.123341987991333,\n",
              "  6.113704909833272,\n",
              "  5.536000281524658,\n",
              "  5.451049778683981,\n",
              "  4.427007613881429,\n",
              "  4.270296990394592,\n",
              "  3.21951870024999,\n",
              "  2.7040922325063033,\n",
              "  2.6880964358965556,\n",
              "  2.6331738532912605,\n",
              "  2.57783377345403,\n",
              "  2.5976121930122376,\n",
              "  2.5839172920872766,\n",
              "  2.5822953645388287,\n",
              "  2.614614863872528,\n",
              "  2.540729440519435,\n",
              "  2.5553294040997825,\n",
              "  2.647618137105306,\n",
              "  2.5960685115631517,\n",
              "  2.6059768414497375,\n",
              "  2.5481827925046283,\n",
              "  2.4958011012057475,\n",
              "  2.5260716446876526,\n",
              "  2.471867928918203,\n",
              "  2.4988704336563745,\n",
              "  2.53311786796406,\n",
              "  2.473392738075151,\n",
              "  2.523128192939471,\n",
              "  2.5289045022328693],\n",
              " 'val_acc': [0.5551,\n",
              "  0.5488,\n",
              "  0.6427,\n",
              "  0.6537,\n",
              "  0.677,\n",
              "  0.7318,\n",
              "  0.7343,\n",
              "  0.8245,\n",
              "  0.8385,\n",
              "  0.8422,\n",
              "  0.8409,\n",
              "  0.8309,\n",
              "  0.8355,\n",
              "  0.8379,\n",
              "  0.8416,\n",
              "  0.8445,\n",
              "  0.8308,\n",
              "  0.8388,\n",
              "  0.8382,\n",
              "  0.8362,\n",
              "  0.8337,\n",
              "  0.8286,\n",
              "  0.8407,\n",
              "  0.835,\n",
              "  0.8469,\n",
              "  0.8463,\n",
              "  0.8223,\n",
              "  0.8363,\n",
              "  0.8456,\n",
              "  0.8456],\n",
              " 'val_loss': [7.131828857421875,\n",
              "  7.231800674438476,\n",
              "  5.724548136138916,\n",
              "  5.570172573852539,\n",
              "  5.154515707397461,\n",
              "  4.3005478374481205,\n",
              "  4.251234442138672,\n",
              "  2.795301072883606,\n",
              "  2.577250712394714,\n",
              "  2.5228085313796997,\n",
              "  2.544639870452881,\n",
              "  2.7074351203918456,\n",
              "  2.640993992614746,\n",
              "  2.604715891265869,\n",
              "  2.540531377220154,\n",
              "  2.4950556941986086,\n",
              "  2.7132705577850342,\n",
              "  2.57868197517395,\n",
              "  2.5995764657974245,\n",
              "  2.628954097557068,\n",
              "  2.6716720857620238,\n",
              "  2.751060725975037,\n",
              "  2.561778575706482,\n",
              "  2.650298845291138,\n",
              "  2.459677803039551,\n",
              "  2.4702532207489014,\n",
              "  2.853649940109253,\n",
              "  2.63005922203064,\n",
              "  2.485885758781433,\n",
              "  2.4766130783081053]}"
            ]
          },
          "metadata": {
            "tags": []
          },
          "execution_count": 43
        }
      ]
    },
    {
      "cell_type": "code",
      "metadata": {
        "id": "JLVOpDfjDeeO",
        "colab_type": "code",
        "outputId": "55e8df41-8109-4e91-d2a4-b5f1f3eb8dcc",
        "colab": {
          "base_uri": "https://localhost:8080/",
          "height": 286
        }
      },
      "source": [
        "plt.plot(history.epoch,history.history['loss'])\n",
        "plt.plot(history.epoch,history.history['val_loss'])"
      ],
      "execution_count": 0,
      "outputs": [
        {
          "output_type": "execute_result",
          "data": {
            "text/plain": [
              "[<matplotlib.lines.Line2D at 0x7f761026cbe0>]"
            ]
          },
          "metadata": {
            "tags": []
          },
          "execution_count": 49
        },
        {
          "output_type": "display_data",
          "data": {
            "image/png": "[encoded data removed]",
            "text/plain": [
              "<Figure size 432x288 with 1 Axes>"
            ]
          },
          "metadata": {
            "tags": []
          }
        }
      ]
    },
    {
      "cell_type": "code",
      "metadata": {
        "id": "mA1VqI8PEE6B",
        "colab_type": "code",
        "outputId": "abf3ea9c-f576-41ba-93ba-f7cb6f2133a6",
        "colab": {
          "base_uri": "https://localhost:8080/",
          "height": 286
        }
      },
      "source": [
        "plt.plot(history.epoch,history.history['acc'])\n",
        "plt.plot(history.epoch,history.history['val_acc'])"
      ],
      "execution_count": 0,
      "outputs": [
        {
          "output_type": "execute_result",
          "data": {
            "text/plain": [
              "[<matplotlib.lines.Line2D at 0x7f761026ce10>]"
            ]
          },
          "metadata": {
            "tags": []
          },
          "execution_count": 50
        },
        {
          "output_type": "display_data",
          "data": {
            "image/png": "[encoded data removed]",
            "text/plain": [
              "<Figure size 432x288 with 1 Axes>"
            ]
          },
          "metadata": {
            "tags": []
          }
        }
      ]
    }
  ]
}